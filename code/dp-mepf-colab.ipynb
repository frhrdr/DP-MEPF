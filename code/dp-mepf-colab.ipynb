{
 "cells": [
  {
   "cell_type": "markdown",
   "id": "fa76b92a-15ee-47cf-98ec-50a39eb77113",
   "metadata": {},
   "source": [
    "## Run DP-Mepf via Colaab from here, hopefully"
   ]
  },
  {
   "cell_type": "code",
   "execution_count": null,
   "id": "fa652d28-85e9-4e0d-a017-5b9613ee6a16",
   "metadata": {},
   "outputs": [],
   "source": []
  }
 ],
 "metadata": {
  "kernelspec": {
   "display_name": "Python 3 (ipykernel)",
   "language": "python",
   "name": "python3"
  },
  "language_info": {
   "codemirror_mode": {
    "name": "ipython",
    "version": 3
   },
   "file_extension": ".py",
   "mimetype": "text/x-python",
   "name": "python",
   "nbconvert_exporter": "python",
   "pygments_lexer": "ipython3",
   "version": "3.9.15"
  }
 },
 "nbformat": 4,
 "nbformat_minor": 5
}
